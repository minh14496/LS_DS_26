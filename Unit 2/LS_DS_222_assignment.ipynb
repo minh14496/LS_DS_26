{
 "cells": [
  {
   "cell_type": "markdown",
   "metadata": {},
   "source": [
    "Lambda School Data Science\n",
    "\n",
    "*Unit 2, Sprint 2, Module 2*\n",
    "\n",
    "---"
   ]
  },
  {
   "cell_type": "code",
   "execution_count": 1,
   "metadata": {},
   "outputs": [],
   "source": [
    "%%capture\n",
    "import sys\n",
    "\n",
    "# If you're on Colab:\n",
    "if 'google.colab' in sys.modules:\n",
    "    DATA_PATH = 'https://raw.githubusercontent.com/LambdaSchool/DS-Unit-2-Linear-Models/main/data/'\n",
    "    !pip install category_encoders==2.*\n",
    "    !pip install pandas-profiling==2.*\n",
    "\n",
    "# If you're working locally:\n",
    "else:\n",
    "    DATA_PATH = '../data/'"
   ]
  },
  {
   "cell_type": "markdown",
   "metadata": {},
   "source": [
    "# Module Project: Random Forests"
   ]
  },
  {
   "cell_type": "markdown",
   "metadata": {},
   "source": [
    "This week, the module projects will focus on creating and improving a model for the Tanazania Water Pump datset. Your goal is to create a model to predict whether a water pump is functional, non-functional, or needs repair.\n",
    "\n",
    "Dataset source: [DrivenData.org](https://www.drivendata.org/competitions/7/pump-it-up-data-mining-the-water-table/).\n",
    "\n",
    "## Directions\n",
    "\n",
    "The tasks for this project are as follows:\n",
    "\n",
    "- **Task 1:** Sign up for a [Kaggle](https://www.kaggle.com/) account.\n",
    "- **Task 2:** Use `wrangle` function to import training and test data.\n",
    "- **Task 3:** Split training data into feature matrix `X` and target vector `y`.\n",
    "- **Task 4:** Split feature matrix `X` and target vector `y` into training and test sets.\n",
    "- **Task 5:** Establish the baseline accuracy score for your dataset.\n",
    "- **Task 6:** Build and train `model_dt`.\n",
    "- **Task 7:** Calculate the training and validation accuracy score for your model.\n",
    "- **Task 8:** Adjust model's `max_depth` to reduce overfitting.\n",
    "- **Task 9 `stretch goal`:** Create a horizontal bar chart showing the 10 most important features for your model.\n",
    "\n",
    "You should limit yourself to the following libraries for this project:\n",
    "\n",
    "- `category_encoders`\n",
    "- `matplotlib`\n",
    "- `pandas`\n",
    "- `pandas-profiling`\n",
    "- `sklearn`\n",
    "\n",
    "# I. Wrangle Data"
   ]
  },
  {
   "cell_type": "code",
   "execution_count": 14,
   "metadata": {},
   "outputs": [],
   "source": [
    "import pandas as pd\n",
    "import numpy as np\n",
    "import matplotlib.pyplot as plt\n",
    "%matplotlib inline\n",
    "from sklearn.model_selection import train_test_split\n",
    "from sklearn.model_selection import RandomizedSearchCV\n",
    "\n",
    "from sklearn.pipeline import make_pipeline\n",
    "from category_encoders import OrdinalEncoder\n",
    "from sklearn.preprocessing import StandardScaler\n",
    "from sklearn.impute import SimpleImputer\n",
    "from sklearn.tree import DecisionTreeClassifier\n",
    "from sklearn.ensemble import RandomForestClassifier\n",
    "from pandas_profiling import ProfileReport\n",
    "\n",
    "from sklearn.metrics import accuracy_score"
   ]
  },
  {
   "cell_type": "code",
   "execution_count": 12,
   "metadata": {},
   "outputs": [],
   "source": [
    "def wrangle(fm_path, tv_path=None):\n",
    "    if tv_path:\n",
    "        df = pd.merge(pd.read_csv(fm_path, \n",
    "                                  na_values=[0, -2.000000e-08]),\n",
    "                      pd.read_csv(tv_path)).set_index('id')\n",
    "    else:\n",
    "        df = pd.read_csv(fm_path, \n",
    "                         na_values=[0, -2.000000e-08],\n",
    "                         index_col='id')\n",
    "\n",
    "    # Drop constant columns\n",
    "    df.drop(columns=['recorded_by'], inplace=True)\n",
    "\n",
    "    # Drop HCCCs\n",
    "    cutoff = 100\n",
    "    drop_cols = [col for col in df.select_dtypes('object').columns\n",
    "                 if df[col].nunique() > cutoff]\n",
    "    df.drop(columns=drop_cols, inplace=True)\n",
    "\n",
    "    # Drop duplicate columns\n",
    "    dupe_cols = [col for col in df.head(15).T.duplicated().index\n",
    "                 if df.head(15).T.duplicated()[col]]\n",
    "    df.drop(columns=dupe_cols, inplace=True)             \n",
    "\n",
    "    return df\n",
    "pd.set_option('display.max_columns', None)"
   ]
  },
  {
   "cell_type": "markdown",
   "metadata": {},
   "source": [
    "**Task 1:** Sign up for a [Kaggle](https://www.kaggle.com/) account. Choose a username that's based on your real name. Like GitHub, Kaggle is part of your public profile as a data scientist.\n",
    "\n",
    "**Task 2:** Modify the `wrangle` function to engineer a `'pump_age'` feature. Then use the function to read `train_features.csv` and `train_labels.csv` into the DataFrame `df`, and `test_features.csv` into the DataFrame `X_test`."
   ]
  },
  {
   "cell_type": "code",
   "execution_count": 3,
   "metadata": {},
   "outputs": [],
   "source": [
    "df = wrangle('train_features.csv','train_labels.csv')\n",
    "X_test = wrangle('test_features.csv')"
   ]
  },
  {
   "cell_type": "code",
   "execution_count": 13,
   "metadata": {},
   "outputs": [
    {
     "output_type": "execute_result",
     "data": {
      "text/plain": [
       "         amount_tsh  gps_height  longitude   latitude  num_private  \\\n",
       "id                                                                   \n",
       "69572.0      6000.0      1390.0  34.938093  -9.856322          NaN   \n",
       "8776.0          NaN      1399.0  34.698766  -2.147466          NaN   \n",
       "34310.0        25.0       686.0  37.460664  -3.821329          NaN   \n",
       "67743.0         NaN       263.0  38.486161 -11.155298          NaN   \n",
       "19728.0         NaN         NaN  31.130847  -1.825359          NaN   \n",
       "\n",
       "                           basin   region  region_code  district_code  \\\n",
       "id                                                                      \n",
       "69572.0               Lake Nyasa   Iringa           11            5.0   \n",
       "8776.0             Lake Victoria     Mara           20            2.0   \n",
       "34310.0                  Pangani  Manyara           21            4.0   \n",
       "67743.0  Ruvuma / Southern Coast   Mtwara           90           63.0   \n",
       "19728.0            Lake Victoria   Kagera           18            1.0   \n",
       "\n",
       "         population public_meeting scheme_management permit  \\\n",
       "id                                                            \n",
       "69572.0       109.0           True               VWC  False   \n",
       "8776.0        280.0            NaN             Other   True   \n",
       "34310.0       250.0           True               VWC   True   \n",
       "67743.0        58.0           True               VWC   True   \n",
       "19728.0         NaN           True               NaN   True   \n",
       "\n",
       "         construction_year extraction_type extraction_type_class management  \\\n",
       "id                                                                            \n",
       "69572.0             1999.0         gravity               gravity        vwc   \n",
       "8776.0              2010.0         gravity               gravity        wug   \n",
       "34310.0             2009.0         gravity               gravity        vwc   \n",
       "67743.0             1986.0     submersible           submersible        vwc   \n",
       "19728.0                NaN         gravity               gravity      other   \n",
       "\n",
       "        management_group         payment payment_type water_quality  \\\n",
       "id                                                                    \n",
       "69572.0       user-group    pay annually     annually          soft   \n",
       "8776.0        user-group       never pay    never pay          soft   \n",
       "34310.0       user-group  pay per bucket   per bucket          soft   \n",
       "67743.0       user-group       never pay    never pay          soft   \n",
       "19728.0            other       never pay    never pay          soft   \n",
       "\n",
       "        quality_group      quantity                source  \\\n",
       "id                                                          \n",
       "69572.0          good        enough                spring   \n",
       "8776.0           good  insufficient  rainwater harvesting   \n",
       "34310.0          good        enough                   dam   \n",
       "67743.0          good           dry           machine dbh   \n",
       "19728.0          good      seasonal  rainwater harvesting   \n",
       "\n",
       "                  source_type source_class              waterpoint_type  \\\n",
       "id                                                                        \n",
       "69572.0                spring  groundwater           communal standpipe   \n",
       "8776.0   rainwater harvesting      surface           communal standpipe   \n",
       "34310.0                   dam      surface  communal standpipe multiple   \n",
       "67743.0              borehole  groundwater  communal standpipe multiple   \n",
       "19728.0  rainwater harvesting      surface           communal standpipe   \n",
       "\n",
       "        waterpoint_type_group    status_group  \n",
       "id                                             \n",
       "69572.0    communal standpipe      functional  \n",
       "8776.0     communal standpipe      functional  \n",
       "34310.0    communal standpipe      functional  \n",
       "67743.0    communal standpipe  non functional  \n",
       "19728.0    communal standpipe      functional  "
      ],
      "text/html": "<div>\n<style scoped>\n    .dataframe tbody tr th:only-of-type {\n        vertical-align: middle;\n    }\n\n    .dataframe tbody tr th {\n        vertical-align: top;\n    }\n\n    .dataframe thead th {\n        text-align: right;\n    }\n</style>\n<table border=\"1\" class=\"dataframe\">\n  <thead>\n    <tr style=\"text-align: right;\">\n      <th></th>\n      <th>amount_tsh</th>\n      <th>gps_height</th>\n      <th>longitude</th>\n      <th>latitude</th>\n      <th>num_private</th>\n      <th>basin</th>\n      <th>region</th>\n      <th>region_code</th>\n      <th>district_code</th>\n      <th>population</th>\n      <th>public_meeting</th>\n      <th>scheme_management</th>\n      <th>permit</th>\n      <th>construction_year</th>\n      <th>extraction_type</th>\n      <th>extraction_type_class</th>\n      <th>management</th>\n      <th>management_group</th>\n      <th>payment</th>\n      <th>payment_type</th>\n      <th>water_quality</th>\n      <th>quality_group</th>\n      <th>quantity</th>\n      <th>source</th>\n      <th>source_type</th>\n      <th>source_class</th>\n      <th>waterpoint_type</th>\n      <th>waterpoint_type_group</th>\n      <th>status_group</th>\n    </tr>\n    <tr>\n      <th>id</th>\n      <th></th>\n      <th></th>\n      <th></th>\n      <th></th>\n      <th></th>\n      <th></th>\n      <th></th>\n      <th></th>\n      <th></th>\n      <th></th>\n      <th></th>\n      <th></th>\n      <th></th>\n      <th></th>\n      <th></th>\n      <th></th>\n      <th></th>\n      <th></th>\n      <th></th>\n      <th></th>\n      <th></th>\n      <th></th>\n      <th></th>\n      <th></th>\n      <th></th>\n      <th></th>\n      <th></th>\n      <th></th>\n      <th></th>\n    </tr>\n  </thead>\n  <tbody>\n    <tr>\n      <th>69572.0</th>\n      <td>6000.0</td>\n      <td>1390.0</td>\n      <td>34.938093</td>\n      <td>-9.856322</td>\n      <td>NaN</td>\n      <td>Lake Nyasa</td>\n      <td>Iringa</td>\n      <td>11</td>\n      <td>5.0</td>\n      <td>109.0</td>\n      <td>True</td>\n      <td>VWC</td>\n      <td>False</td>\n      <td>1999.0</td>\n      <td>gravity</td>\n      <td>gravity</td>\n      <td>vwc</td>\n      <td>user-group</td>\n      <td>pay annually</td>\n      <td>annually</td>\n      <td>soft</td>\n      <td>good</td>\n      <td>enough</td>\n      <td>spring</td>\n      <td>spring</td>\n      <td>groundwater</td>\n      <td>communal standpipe</td>\n      <td>communal standpipe</td>\n      <td>functional</td>\n    </tr>\n    <tr>\n      <th>8776.0</th>\n      <td>NaN</td>\n      <td>1399.0</td>\n      <td>34.698766</td>\n      <td>-2.147466</td>\n      <td>NaN</td>\n      <td>Lake Victoria</td>\n      <td>Mara</td>\n      <td>20</td>\n      <td>2.0</td>\n      <td>280.0</td>\n      <td>NaN</td>\n      <td>Other</td>\n      <td>True</td>\n      <td>2010.0</td>\n      <td>gravity</td>\n      <td>gravity</td>\n      <td>wug</td>\n      <td>user-group</td>\n      <td>never pay</td>\n      <td>never pay</td>\n      <td>soft</td>\n      <td>good</td>\n      <td>insufficient</td>\n      <td>rainwater harvesting</td>\n      <td>rainwater harvesting</td>\n      <td>surface</td>\n      <td>communal standpipe</td>\n      <td>communal standpipe</td>\n      <td>functional</td>\n    </tr>\n    <tr>\n      <th>34310.0</th>\n      <td>25.0</td>\n      <td>686.0</td>\n      <td>37.460664</td>\n      <td>-3.821329</td>\n      <td>NaN</td>\n      <td>Pangani</td>\n      <td>Manyara</td>\n      <td>21</td>\n      <td>4.0</td>\n      <td>250.0</td>\n      <td>True</td>\n      <td>VWC</td>\n      <td>True</td>\n      <td>2009.0</td>\n      <td>gravity</td>\n      <td>gravity</td>\n      <td>vwc</td>\n      <td>user-group</td>\n      <td>pay per bucket</td>\n      <td>per bucket</td>\n      <td>soft</td>\n      <td>good</td>\n      <td>enough</td>\n      <td>dam</td>\n      <td>dam</td>\n      <td>surface</td>\n      <td>communal standpipe multiple</td>\n      <td>communal standpipe</td>\n      <td>functional</td>\n    </tr>\n    <tr>\n      <th>67743.0</th>\n      <td>NaN</td>\n      <td>263.0</td>\n      <td>38.486161</td>\n      <td>-11.155298</td>\n      <td>NaN</td>\n      <td>Ruvuma / Southern Coast</td>\n      <td>Mtwara</td>\n      <td>90</td>\n      <td>63.0</td>\n      <td>58.0</td>\n      <td>True</td>\n      <td>VWC</td>\n      <td>True</td>\n      <td>1986.0</td>\n      <td>submersible</td>\n      <td>submersible</td>\n      <td>vwc</td>\n      <td>user-group</td>\n      <td>never pay</td>\n      <td>never pay</td>\n      <td>soft</td>\n      <td>good</td>\n      <td>dry</td>\n      <td>machine dbh</td>\n      <td>borehole</td>\n      <td>groundwater</td>\n      <td>communal standpipe multiple</td>\n      <td>communal standpipe</td>\n      <td>non functional</td>\n    </tr>\n    <tr>\n      <th>19728.0</th>\n      <td>NaN</td>\n      <td>NaN</td>\n      <td>31.130847</td>\n      <td>-1.825359</td>\n      <td>NaN</td>\n      <td>Lake Victoria</td>\n      <td>Kagera</td>\n      <td>18</td>\n      <td>1.0</td>\n      <td>NaN</td>\n      <td>True</td>\n      <td>NaN</td>\n      <td>True</td>\n      <td>NaN</td>\n      <td>gravity</td>\n      <td>gravity</td>\n      <td>other</td>\n      <td>other</td>\n      <td>never pay</td>\n      <td>never pay</td>\n      <td>soft</td>\n      <td>good</td>\n      <td>seasonal</td>\n      <td>rainwater harvesting</td>\n      <td>rainwater harvesting</td>\n      <td>surface</td>\n      <td>communal standpipe</td>\n      <td>communal standpipe</td>\n      <td>functional</td>\n    </tr>\n  </tbody>\n</table>\n</div>"
     },
     "metadata": {},
     "execution_count": 13
    }
   ],
   "source": [
    "df.head()"
   ]
  },
  {
   "cell_type": "markdown",
   "metadata": {},
   "source": [
    "# II. Split Data\n",
    "\n",
    "**Task 3:** Split your DataFrame `df` into a feature matrix `X` and the target vector `y`. You want to predict `'status_group'`."
   ]
  },
  {
   "cell_type": "code",
   "execution_count": 4,
   "metadata": {},
   "outputs": [],
   "source": [
    "X = df.drop(columns='status_group')\n",
    "y = df['status_group']"
   ]
  },
  {
   "cell_type": "markdown",
   "metadata": {},
   "source": [
    "**Task 4:** Using a randomized split, divide `X` and `y` into a training set (`X_train`, `y_train`) and a validation set (`X_val`, `y_val`)."
   ]
  },
  {
   "cell_type": "code",
   "execution_count": 5,
   "metadata": {},
   "outputs": [],
   "source": [
    "X_train, X_val, y_train, y_val = train_test_split(X, y, train_size=0.8)"
   ]
  },
  {
   "cell_type": "markdown",
   "metadata": {},
   "source": [
    "# III. Establish Baseline\n",
    "\n",
    "**Task 5:** Since this is a **classification** problem, you should establish a baseline accuracy score. Figure out what is the majority class in `y_train` and what percentage of your training observations it represents."
   ]
  },
  {
   "cell_type": "code",
   "execution_count": 6,
   "metadata": {},
   "outputs": [
    {
     "output_type": "stream",
     "name": "stdout",
     "text": [
      "Baseline Accuracy Score: 0.5425829668132747\n"
     ]
    }
   ],
   "source": [
    "baseline_acc = y_train.value_counts(normalize=True).max()\n",
    "print('Baseline Accuracy Score:', baseline_acc)"
   ]
  },
  {
   "cell_type": "markdown",
   "metadata": {},
   "source": [
    "# IV. Build Model\n",
    "\n",
    "**Task 6:** Build a `Pipeline` named `model_rf`, and fit it to your training data. Your `Pipeline` should include:\n",
    "\n",
    "- an `OrdinalEncoder` transformer for categorical features.\n",
    "- a `SimpleImputer` transformer fot missing values.\n",
    "- a `RandomForestClassifier` predictor.\n",
    "\n",
    "**Note:** Don't forget to set the `random_state` parameter for your `RandomForestClassifier`. Also, to decrease training time, set `n_jobs` to `-1`."
   ]
  },
  {
   "cell_type": "code",
   "execution_count": 8,
   "metadata": {},
   "outputs": [
    {
     "output_type": "execute_result",
     "data": {
      "text/plain": [
       "Pipeline(steps=[('ordinalencoder',\n",
       "                 OrdinalEncoder(cols=['basin', 'region', 'public_meeting',\n",
       "                                      'scheme_management', 'permit',\n",
       "                                      'extraction_type',\n",
       "                                      'extraction_type_class', 'management',\n",
       "                                      'management_group', 'payment',\n",
       "                                      'payment_type', 'water_quality',\n",
       "                                      'quality_group', 'quantity', 'source',\n",
       "                                      'source_type', 'source_class',\n",
       "                                      'waterpoint_type',\n",
       "                                      'waterpoint_type_group'],\n",
       "                                mapping=[...\n",
       "communal standpipe             3\n",
       "communal standpipe multiple    4\n",
       "improved spring                5\n",
       "cattle trough                  6\n",
       "dam                            7\n",
       "NaN                           -2\n",
       "dtype: int64},\n",
       "                                         {'col': 'waterpoint_type_group',\n",
       "                                          'data_type': dtype('O'),\n",
       "                                          'mapping': other                 1\n",
       "hand pump             2\n",
       "communal standpipe    3\n",
       "improved spring       4\n",
       "cattle trough         5\n",
       "dam                   6\n",
       "NaN                  -2\n",
       "dtype: int64}])),\n",
       "                ('simpleimputer', SimpleImputer()),\n",
       "                ('randomforestclassifier',\n",
       "                 RandomForestClassifier(n_jobs=-1, random_state=42))])"
      ]
     },
     "metadata": {},
     "execution_count": 8
    }
   ],
   "source": [
    "model_rf = make_pipeline(\n",
    "    OrdinalEncoder(),\n",
    "    SimpleImputer(),\n",
    "    RandomForestClassifier(n_jobs=-1, random_state=42)\n",
    ")\n",
    "model_rf.fit(X_train, y_train)"
   ]
  },
  {
   "cell_type": "markdown",
   "metadata": {},
   "source": [
    "# V. Check Metrics\n",
    "\n",
    "**Task 7:** Calculate the training and validation accuracy scores for `model_rf`."
   ]
  },
  {
   "cell_type": "code",
   "execution_count": 9,
   "metadata": {},
   "outputs": [
    {
     "output_type": "stream",
     "name": "stdout",
     "text": [
      "Training Accuracy Score: 0.9951598308045203\nValidation Accuracy Score: 0.8035353535353535\n"
     ]
    }
   ],
   "source": [
    "training_acc = accuracy_score(y_train, model_rf.predict(X_train))\n",
    "val_acc = accuracy_score(y_val, model_rf.predict(X_val))\n",
    "\n",
    "print('Training Accuracy Score:', training_acc)\n",
    "print('Validation Accuracy Score:', val_acc)"
   ]
  },
  {
   "cell_type": "markdown",
   "metadata": {},
   "source": [
    "# VI. Tune Model\n",
    "\n",
    "**Task 8:** Tune `n_estimators` and `max_depth` hyperparameters for your `RandomForestClassifier` to get the best validation accuracy score for `model_rf`. "
   ]
  },
  {
   "cell_type": "code",
   "execution_count": 42,
   "metadata": {},
   "outputs": [],
   "source": [
    "# Use this cell to experiment and then change \n",
    "# your model hyperparameters in Task 6\n",
    "# Number of trees in Random Forest\n",
    "rf_n_estimators = [int(x) for x in np.linspace(200, 1000, 5)]\n",
    "\n",
    "# Maximum number of levels in tree\n",
    "rf_max_depth = [int(x) for x in np.linspace(5, 55, 11)]\n",
    "\n",
    "# Number of features\n",
    "rf_max_features = ['auto', 'sqrt', 'log2']\n",
    "\n",
    "# Criterion to split on\n",
    "rf_criterion = ['gini', 'entropy']\n",
    "\n",
    "# Minimum number of samples required to split a node\n",
    "rf_min_samples_split = [int(x) for x in np.linspace(2, 10, 9)]\n",
    "\n",
    "# Method of selecting samples for training each tree\n",
    "rf_bootstrap = [True, False]\n",
    "\n",
    "# Create the grid\n",
    "rf_grid = {'randomforestclassifier__n_estimators': rf_n_estimators,\n",
    "            'randomforestclassifier__max_depth': rf_max_depth,\n",
    "            'randomforestclassifier__max_features': rf_max_features,\n",
    "            'randomforestclassifier__criterion': rf_criterion,\n",
    "            'randomforestclassifier__min_samples_split': rf_min_samples_split,\n",
    "            'randomforestclassifier__bootstrap': rf_bootstrap\n",
    "            }"
   ]
  },
  {
   "cell_type": "code",
   "execution_count": 65,
   "metadata": {},
   "outputs": [],
   "source": [
    "model_rf_tune = make_pipeline(\n",
    "    OrdinalEncoder(),\n",
    "    SimpleImputer(),\n",
    "    RandomForestClassifier()\n",
    ")\n",
    "random_search = RandomizedSearchCV(estimator=model_rf_tune, param_distributions=rf_grid, n_iter=20, cv=3, random_state=42, n_jobs=-1)"
   ]
  },
  {
   "cell_type": "code",
   "execution_count": 48,
   "metadata": {},
   "outputs": [
    {
     "output_type": "execute_result",
     "data": {
      "text/plain": [
       "RandomizedSearchCV(cv=3,\n",
       "                   estimator=Pipeline(steps=[('ordinalencoder',\n",
       "                                              OrdinalEncoder()),\n",
       "                                             ('simpleimputer', SimpleImputer()),\n",
       "                                             ('randomforestclassifier',\n",
       "                                              RandomForestClassifier())]),\n",
       "                   n_iter=20, n_jobs=-1,\n",
       "                   param_distributions={'randomforestclassifier__bootstrap': [True,\n",
       "                                                                              False],\n",
       "                                        'randomforestclassifier__criterion': ['gini',\n",
       "                                                                              'entropy'],\n",
       "                                        'randomforestclassifier__max_depth': [5,\n",
       "                                                                              10,\n",
       "                                                                              15,\n",
       "                                                                              20,\n",
       "                                                                              25,\n",
       "                                                                              30,\n",
       "                                                                              35,\n",
       "                                                                              40,\n",
       "                                                                              45,\n",
       "                                                                              50,\n",
       "                                                                              55],\n",
       "                                        'randomforestclassifier__max_features': ['auto',\n",
       "                                                                                 'sqrt',\n",
       "                                                                                 'log2'],\n",
       "                                        'randomforestclassifier__min_samples_split': [2,\n",
       "                                                                                      3,\n",
       "                                                                                      4,\n",
       "                                                                                      5,\n",
       "                                                                                      6,\n",
       "                                                                                      7,\n",
       "                                                                                      8,\n",
       "                                                                                      9,\n",
       "                                                                                      10],\n",
       "                                        'randomforestclassifier__n_estimators': [200,\n",
       "                                                                                 400,\n",
       "                                                                                 600,\n",
       "                                                                                 800,\n",
       "                                                                                 1000]},\n",
       "                   random_state=42)"
      ]
     },
     "metadata": {},
     "execution_count": 48
    }
   ],
   "source": [
    "random_search.fit(X_train, y_train)"
   ]
  },
  {
   "cell_type": "code",
   "execution_count": 50,
   "metadata": {},
   "outputs": [
    {
     "output_type": "execute_result",
     "data": {
      "text/plain": [
       "{'randomforestclassifier__n_estimators': 1000,\n",
       " 'randomforestclassifier__min_samples_split': 9,\n",
       " 'randomforestclassifier__max_features': 'sqrt',\n",
       " 'randomforestclassifier__max_depth': 55,\n",
       " 'randomforestclassifier__criterion': 'entropy',\n",
       " 'randomforestclassifier__bootstrap': True}"
      ]
     },
     "metadata": {},
     "execution_count": 50
    }
   ],
   "source": [
    "random_search.best_params_"
   ]
  },
  {
   "cell_type": "code",
   "execution_count": 51,
   "metadata": {},
   "outputs": [
    {
     "output_type": "execute_result",
     "data": {
      "text/plain": [
       "0.803573317088217"
      ]
     },
     "metadata": {},
     "execution_count": 51
    }
   ],
   "source": [
    "random_search.best_score_"
   ]
  },
  {
   "cell_type": "code",
   "execution_count": 63,
   "metadata": {},
   "outputs": [],
   "source": [
    "model_rf_final = make_pipeline(\n",
    "    OrdinalEncoder(),\n",
    "    SimpleImputer(),\n",
    "    RandomForestClassifier(n_estimators=1000, min_samples_split=9, max_features='sqrt', max_depth=55, criterion='entropy', bootstrap=True, n_jobs=-1, random_state=42)\n",
    ")"
   ]
  },
  {
   "cell_type": "code",
   "execution_count": 64,
   "metadata": {},
   "outputs": [],
   "source": [
    "model_rf_final.fit(X_train, y_train);"
   ]
  },
  {
   "cell_type": "code",
   "execution_count": 60,
   "metadata": {},
   "outputs": [
    {
     "output_type": "stream",
     "name": "stdout",
     "text": [
      "Training Accuracy Score: 0.9179065216018856\n",
      "Validation Accuracy Score: 0.8125420875420876\n"
     ]
    }
   ],
   "source": [
    "\n",
    "print('Training Accuracy Score:', accuracy_score(y_train, model_rf_final.predict(X_train)))\n",
    "print('Validation Accuracy Score:', accuracy_score(y_val, model_rf_final.predict(X_val)))"
   ]
  },
  {
   "cell_type": "markdown",
   "metadata": {},
   "source": [
    "# VII. Communicate Results\n",
    "\n",
    "**Task 9:** Generate a list of predictions for `X_test`. The list should be named `y_pred`."
   ]
  },
  {
   "cell_type": "code",
   "execution_count": 10,
   "metadata": {},
   "outputs": [],
   "source": [
    "y_pred = model_rf.predict(X_test)\n",
    "\n",
    "assert len(y_pred) == len(X_test), f'Your list of predictions should have {len(X_test)} items in it. '"
   ]
  },
  {
   "cell_type": "markdown",
   "metadata": {},
   "source": [
    "**Task 11 `stretch goal`:** Create a DataFrame `submission` whose index is the same as `X_test` and that has one column `'status_group'` with your predictions. Next, save this DataFrame as a CSV file and upload your submissions to our competition site. \n",
    "\n",
    "**Note:** Check the `sample_submission.csv` file on the competition website to make sure your submissions follows the same formatting. "
   ]
  },
  {
   "cell_type": "code",
   "execution_count": 61,
   "metadata": {},
   "outputs": [],
   "source": [
    "y_pred_final = model_rf_final.predict(X_test)"
   ]
  },
  {
   "cell_type": "code",
   "execution_count": 62,
   "metadata": {},
   "outputs": [],
   "source": [
    "submission = pd.read_csv('sample_submission.csv')\n",
    "submission['status_group'] = y_pred_final\n",
    "submission.to_csv('submission_04_13_rf.csv', index=False)"
   ]
  },
  {
   "cell_type": "code",
   "execution_count": null,
   "metadata": {},
   "outputs": [],
   "source": []
  }
 ],
 "metadata": {
  "kernelspec": {
   "name": "python392jvsc74a57bd015d389823c4ee7e97cbfb3f1e7dc865da6c441c23c0fbc20b562c3f629bc50b4",
   "display_name": "Python 3.9.2 64-bit ('base': conda)"
  },
  "language_info": {
   "codemirror_mode": {
    "name": "ipython",
    "version": 3
   },
   "file_extension": ".py",
   "mimetype": "text/x-python",
   "name": "python",
   "nbconvert_exporter": "python",
   "pygments_lexer": "ipython3",
   "version": "3.9.2"
  }
 },
 "nbformat": 4,
 "nbformat_minor": 1
}